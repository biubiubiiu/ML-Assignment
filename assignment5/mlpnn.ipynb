{
 "cells": [
  {
   "cell_type": "markdown",
   "id": "4c1d3124",
   "metadata": {},
   "source": [
    "# MLPNN Exercise\n",
    "\n",
    "The target of this assignment is to design and implement bp-MLPNN with at least two different error functions for [MNIST](http://yann.lecun.com/exdb/mnist/) handwritten digit classification."
   ]
  },
  {
   "cell_type": "markdown",
   "id": "0efe416f",
   "metadata": {},
   "source": [
    "## Table of Contents\n",
    "\n",
    "- [1-Packages](#1)\n",
    "- [2-Load the Dataset](#2)\n",
    "- [3-Skeleton of SVM](#3)\n",
    "- [4-Training with Cross-Entropy Loss](#4)\n",
    "- [5-Training with KL-Divergence Loss](#5)"
   ]
  },
  {
   "cell_type": "markdown",
   "id": "ca410fb3",
   "metadata": {},
   "source": [
    "<a name='1'></a>\n",
    "\n",
    "## 1 - Packages\n",
    "\n",
    "First import all the packages needed during this assignment."
   ]
  },
  {
   "cell_type": "code",
   "execution_count": 1,
   "id": "253a0247",
   "metadata": {},
   "outputs": [],
   "source": [
    "import numpy as np\n",
    "import matplotlib.pyplot as plt\n",
    "from sklearn import metrics\n",
    "from sklearn.datasets import fetch_openml\n",
    "from tqdm import tqdm\n",
    "\n",
    "%matplotlib inline\n",
    "\n",
    "%load_ext autoreload\n",
    "%autoreload 2\n",
    "\n",
    "np.random.seed(1) # set a seed so that the results are consistent"
   ]
  },
  {
   "cell_type": "markdown",
   "id": "43a8d089",
   "metadata": {},
   "source": [
    "<a name='2'></a>\n",
    "\n",
    "## 2 - Load the Dataset"
   ]
  },
  {
   "cell_type": "code",
   "execution_count": 2,
   "id": "d14e36ef",
   "metadata": {},
   "outputs": [],
   "source": [
    "# Load MNIST dataset via sklearn\n",
    "data, target = fetch_openml('mnist_784', return_X_y=True)\n",
    "\n",
    "data = data.to_numpy() / 255.0\n",
    "target = target.to_numpy().astype(np.uint8)\n",
    "\n",
    "n_samples = 60000  # MNIST dataset uses 60000 examples for training\n",
    "\n",
    "train_img = data[:n_samples, :]\n",
    "train_label = target[:n_samples]\n",
    "test_img = data[n_samples:]\n",
    "test_label = target[n_samples:]"
   ]
  },
  {
   "cell_type": "code",
   "execution_count": 3,
   "id": "a2023952",
   "metadata": {},
   "outputs": [
    {
     "name": "stdout",
     "output_type": "stream",
     "text": [
      "Training data shape:  (60000, 784)\n",
      "Training labels shape:  (60000,)\n",
      "Test data shape:  (10000, 784)\n",
      "Test labels shape:  (10000,)\n"
     ]
    }
   ],
   "source": [
    "# As a sanity check, print out the size of the training and test data\n",
    "print('Training data shape: ', train_img.shape)\n",
    "print('Training labels shape: ', train_label.shape)\n",
    "print('Test data shape: ', test_img.shape)\n",
    "print('Test labels shape: ', test_label.shape)"
   ]
  },
  {
   "cell_type": "markdown",
   "id": "be431f34",
   "metadata": {},
   "source": [
    "<a name='3'></a>\n",
    "\n",
    "## 3 - Backbone of MLPNN"
   ]
  },
  {
   "cell_type": "code",
   "execution_count": 4,
   "id": "63fbc3bc",
   "metadata": {},
   "outputs": [],
   "source": [
    "# Perceptron\n",
    "class Perceptron:\n",
    "    def __init__(self, dim, activation):\n",
    "        super().__init__()\n",
    "        self.act = activation\n",
    "        self.w = np.random.randn(dim, 1)  # column vector\n",
    "        self.b = np.random.rand()\n",
    "    \n",
    "    def __call__(self, x):\n",
    "        '''forward pass'''\n",
    "        Z = np.dot(x, self.w) + self.b\n",
    "        if self.act:\n",
    "            A = self.act(Z)\n",
    "            return Z, A\n",
    "        else:\n",
    "            return Z"
   ]
  },
  {
   "cell_type": "code",
   "execution_count": 5,
   "id": "2bf80359",
   "metadata": {},
   "outputs": [],
   "source": [
    "def softmax(X):\n",
    "    X_exp = np.exp(X)\n",
    "    partition = np.sum(X_exp, axis=1, keepdims=True)\n",
    "    return X_exp / partition"
   ]
  },
  {
   "cell_type": "code",
   "execution_count": 6,
   "id": "76706021",
   "metadata": {},
   "outputs": [],
   "source": [
    "class MLPNN:\n",
    "    def __init__(self, in_dim, out_dim, n_neuron):\n",
    "        super().__init__()\n",
    "        \n",
    "        self.layer1 = [Perceptron(in_dim, activation=np.tanh) for _ in range(n_neuron)]  # use tanh for activation\n",
    "        self.layer2 = [Perceptron(n_neuron, activation=softmax) for _ in range(out_dim)]  # softmax activation\n",
    "        \n",
    "        # vectorize to accerlate\n",
    "        self._vectorize()\n",
    "        \n",
    "        # for back-prop\n",
    "        self.cache = dict()\n",
    "        \n",
    "    \n",
    "    def __call__(self, x, requires_cache=True):\n",
    "        '''forward pass'''\n",
    "        \n",
    "        # Input Layer -> Hidden Layer\n",
    "        layer1_input = x\n",
    "        Z1 = np.dot(layer1_input, self.W1) + self.b1\n",
    "        A1 = self._activate(Z1, layer_idx=1)\n",
    "        \n",
    "        if requires_cache:\n",
    "            self.cache['Z1'] = Z1\n",
    "            self.cache['A1'] = A1\n",
    "            \n",
    "        # Hidden Layer -> Output Layer\n",
    "        layer2_input = A1\n",
    "        Z2 = np.dot(layer2_input, self.W2) + self.b2  \n",
    "        A2 = self._activate(Z2, layer_idx=2)  # size*C, probility of each class\n",
    "        \n",
    "        if requires_cache:\n",
    "            self.cache['Z2'] = Z2\n",
    "            self.cache['A2'] = A2\n",
    "        \n",
    "        return A2.clip(min=1e-8, max=None)\n",
    "    \n",
    "    def _vectorize(self):\n",
    "        self.W1 = np.hstack([neuron.w for neuron in self.layer1])  # dim * n_hidden\n",
    "        self.b1 = np.array([neuron.b for neuron in self.layer1])  # n_hidden\n",
    "        self.W2 = np.hstack([neuron.w for neuron in self.layer2])  # n_hidden * 10\n",
    "        self.b2 = np.array([neuron.b for neuron in self.layer2])  # 10\n",
    "        \n",
    "        self.act1 = [neuron.act for neuron in self.layer1]\n",
    "        if all(x==self.act1[0] for x in self.act1):  # check if all perceptrons are using the same activation\n",
    "            self.act1 = self.act1[0]\n",
    "            \n",
    "        self.act2 = [neuron.act for neuron in self.layer2]\n",
    "        if all(x==self.act2[0] for x in self.act2):  # check if all perceptrons are using the same activation\n",
    "            self.act2 = self.act2[0]\n",
    "        \n",
    "        del self.layer1\n",
    "        del self.layer2\n",
    "        \n",
    "    def _activate(self, feat, layer_idx):\n",
    "        assert layer_idx in (1, 2)  # since we're using two layer neural network\n",
    "        \n",
    "        act = self.act1 if layer_idx == 1 else self.act2\n",
    "        \n",
    "        if callable(act):\n",
    "            return act(feat)\n",
    "        elif type(act) is list:\n",
    "            assert len(act) == feat.shape[1]\n",
    "            for i in range(feat.shape[1]):\n",
    "                feat[:, i] = act[i](feat[:, i])\n",
    "            return feat\n",
    "        else:\n",
    "            raise Exception('Internal error')"
   ]
  },
  {
   "cell_type": "markdown",
   "id": "7926e0fd",
   "metadata": {},
   "source": [
    "<a name='4'></a>\n",
    "\n",
    "## 4 - Training with Cross-Entropy Loss\n",
    "\n",
    "For Multi-class classification problem, cross-entropy loss is defined as\n",
    "\n",
    "$$\n",
    "L(\\hat{y}, y)=-\\sum_{k}^{K} y^{(k)} \\log \\hat{y}^{(k)}\n",
    "$$\n",
    "\n",
    "where $y^{(k)}$ is $0$ or $1$, indicating whether class label $k$ is the correct classification."
   ]
  },
  {
   "cell_type": "code",
   "execution_count": 7,
   "id": "e0ea8a85",
   "metadata": {},
   "outputs": [],
   "source": [
    "def to_one_hot(values):\n",
    "    values = np.squeeze(values)\n",
    "    n_values = np.max(values) + 1\n",
    "    return np.eye(n_values)[values].astype(np.uint8)\n",
    "\n",
    "def compute_loss(output, Y):\n",
    "    \"\"\" Computes cross entropy between two distributions.\n",
    "    Input: x: iterabale of N non-negative values\n",
    "           y: iterabale of N non-negative values\n",
    "    Returns: scalar\n",
    "    \"\"\"\n",
    "    return -np.sum(np.multiply(to_one_hot(Y), np.log(output)))"
   ]
  },
  {
   "cell_type": "code",
   "execution_count": 8,
   "id": "125c8f2c",
   "metadata": {},
   "outputs": [],
   "source": [
    "def bp_cross_entropy(network, X, Y, lr):\n",
    "    n = X.shape[0]  # size of dataset\n",
    "    \n",
    "    A1 = network.cache['A1']\n",
    "    A2 = network.cache['A2']\n",
    "    \n",
    "    # compute gradients\n",
    "    dZ2 = A2 - to_one_hot(Y)\n",
    "    dW2 = (1 / n) * np.dot(A1.T, dZ2)\n",
    "    db2 = (1 / n) * np.sum(dZ2, axis=0)\n",
    "    \n",
    "    dZ1 = np.multiply(np.dot(dZ2, network.W2.T), 1 - np.power(A1, 2))\n",
    "    dW1 = (1 / n) * np.dot(X.T, dZ1)\n",
    "    db1 = (1 / n) * np.sum(dZ1, axis=0)\n",
    "    \n",
    "    # update parameters\n",
    "    network.W2 = network.W2 - lr * dW2\n",
    "    network.b2 = network.b2 - lr * db2\n",
    "    network.W1 = network.W1 - lr * dW1\n",
    "    network.b1 = network.b1 - lr * db1"
   ]
  },
  {
   "cell_type": "code",
   "execution_count": 9,
   "id": "c730239e",
   "metadata": {},
   "outputs": [
    {
     "name": "stderr",
     "output_type": "stream",
     "text": [
      " 10%|███▊                                  | 199/2000 [18:11<2:48:54,  5.63s/it]"
     ]
    },
    {
     "name": "stdout",
     "output_type": "stream",
     "text": [
      "[epoch 200] loss: 140015.9757\n"
     ]
    },
    {
     "name": "stderr",
     "output_type": "stream",
     "text": [
      " 20%|███████▌                              | 399/2000 [36:09<2:20:03,  5.25s/it]"
     ]
    },
    {
     "name": "stdout",
     "output_type": "stream",
     "text": [
      "[epoch 400] loss: 98761.8062\n"
     ]
    },
    {
     "name": "stderr",
     "output_type": "stream",
     "text": [
      " 30%|███████████▍                          | 599/2000 [53:27<1:59:15,  5.11s/it]"
     ]
    },
    {
     "name": "stdout",
     "output_type": "stream",
     "text": [
      "[epoch 600] loss: 79200.0926\n"
     ]
    },
    {
     "name": "stderr",
     "output_type": "stream",
     "text": [
      " 40%|██████████████▍                     | 799/2000 [1:10:44<1:51:25,  5.57s/it]"
     ]
    },
    {
     "name": "stdout",
     "output_type": "stream",
     "text": [
      "[epoch 800] loss: 66535.5184\n"
     ]
    },
    {
     "name": "stderr",
     "output_type": "stream",
     "text": [
      " 50%|█████████████████▉                  | 999/2000 [1:28:43<1:29:44,  5.38s/it]"
     ]
    },
    {
     "name": "stdout",
     "output_type": "stream",
     "text": [
      "[epoch 1000] loss: 57299.7318\n"
     ]
    },
    {
     "name": "stderr",
     "output_type": "stream",
     "text": [
      " 60%|████████████████████▉              | 1199/2000 [1:46:49<1:07:26,  5.05s/it]"
     ]
    },
    {
     "name": "stdout",
     "output_type": "stream",
     "text": [
      "[epoch 1200] loss: 50137.3821\n"
     ]
    },
    {
     "name": "stderr",
     "output_type": "stream",
     "text": [
      " 70%|█████████████████████████▉           | 1399/2000 [2:03:41<50:41,  5.06s/it]"
     ]
    },
    {
     "name": "stdout",
     "output_type": "stream",
     "text": [
      "[epoch 1400] loss: 44356.6473\n"
     ]
    },
    {
     "name": "stderr",
     "output_type": "stream",
     "text": [
      " 80%|█████████████████████████████▌       | 1599/2000 [2:20:32<33:44,  5.05s/it]"
     ]
    },
    {
     "name": "stdout",
     "output_type": "stream",
     "text": [
      "[epoch 1600] loss: 39598.9911\n"
     ]
    },
    {
     "name": "stderr",
     "output_type": "stream",
     "text": [
      " 90%|█████████████████████████████████▎   | 1799/2000 [2:37:24<16:55,  5.05s/it]"
     ]
    },
    {
     "name": "stdout",
     "output_type": "stream",
     "text": [
      "[epoch 1800] loss: 35571.1231\n"
     ]
    },
    {
     "name": "stderr",
     "output_type": "stream",
     "text": [
      "100%|████████████████████████████████████▉| 1999/2000 [2:54:16<00:05,  5.06s/it]"
     ]
    },
    {
     "name": "stdout",
     "output_type": "stream",
     "text": [
      "[epoch 2000] loss: 32051.5763\n"
     ]
    },
    {
     "name": "stderr",
     "output_type": "stream",
     "text": [
      "100%|█████████████████████████████████████| 2000/2000 [2:54:21<00:00,  5.23s/it]\n"
     ]
    },
    {
     "data": {
      "text/plain": [
       "Text(0, 0.5, 'Cross-Entropy Loss')"
      ]
     },
     "execution_count": 9,
     "metadata": {},
     "output_type": "execute_result"
    },
    {
     "data": {
      "image/png": "[encoded data removed]",
      "text/plain": [
       "<Figure size 432x288 with 1 Axes>"
      ]
     },
     "metadata": {
      "needs_background": "light"
     },
     "output_type": "display_data"
    }
   ],
   "source": [
    "network = MLPNN(in_dim=784, out_dim=10, n_neuron=1000)\n",
    "learning_rate = 1e-1\n",
    "epochs = 2000\n",
    "\n",
    "training_loss = list()\n",
    "testing_loss = list()\n",
    "\n",
    "for epoch in tqdm(range(1, epochs+1)):\n",
    "    out = network(train_img)\n",
    "    loss = compute_loss(out, train_label)\n",
    "    training_loss.append(loss)\n",
    "    bp_cross_entropy(network, train_img, train_label, learning_rate)\n",
    "    \n",
    "    if epoch % 200 == 0:\n",
    "        print('[epoch %d] loss: %.4f' % (epoch, loss))\n",
    "    \n",
    "    # Evaluate on testing set\n",
    "    out = network(test_img, requires_cache=False)\n",
    "    loss = compute_loss(out, test_label)\n",
    "    testing_loss.append(loss)\n",
    "        \n",
    "# Plot loss curve\n",
    "p1, = plt.plot(training_loss)\n",
    "p2, = plt.plot(testing_loss)\n",
    "plt.legend(handles=[p1, p2], labels=['train', 'test'], loc='best')\n",
    "plt.xlabel('Epochs')\n",
    "plt.ylabel('Cross-Entropy Loss')"
   ]
  },
  {
   "cell_type": "code",
   "execution_count": 10,
   "id": "021c6782",
   "metadata": {},
   "outputs": [
    {
     "name": "stdout",
     "output_type": "stream",
     "text": [
      "Confusion matrix:\n",
      "[[ 914    0    6    3    2   23   13    6   11    2]\n",
      " [   0 1098    8    6    1    3    3    2   13    1]\n",
      " [  11    9  898   29   11    5   14   11   37    7]\n",
      " [   4    4   12  890    1   44    1   11   33   10]\n",
      " [   3    3   10    1  866    3   14   18   12   52]\n",
      " [  12    3    9   41   11  744   13    8   43    8]\n",
      " [  17    3   18    4   17   15  876    2    4    2]\n",
      " [   4    7   27   12   11    2    1  919    7   38]\n",
      " [  13    6   21   35   11   41   14   14  801   18]\n",
      " [  10    5    1   14   58    6    4   33   18  860]]\n",
      "Accuracy=0.8866\n"
     ]
    }
   ],
   "source": [
    "def evaluate(network, X, Y):\n",
    "    pred = np.argmax(network(X), axis=1).reshape(-1)\n",
    "    cm = metrics.confusion_matrix(Y, pred)\n",
    "    print(\"Confusion matrix:\\n%s\" % cm)\n",
    "    print(\"Accuracy={}\".format(metrics.accuracy_score(Y, pred)))\n",
    "    \n",
    "evaluate(network, test_img, test_label)"
   ]
  },
  {
   "cell_type": "markdown",
   "id": "4f9fd6e6",
   "metadata": {},
   "source": [
    "<a name='5'></a>\n",
    "\n",
    "## 5 - Training with KL-Divergence Loss\n",
    "\n",
    "Kullback Leibler Divergence, or KL Divergence for short, is a measure of how one probability distribution differs from a baseline distribution. For Multi-class classification problem, KL-Divergence loss is defined as\n",
    "\n",
    "$$\n",
    "L(\\hat{y}, y)=\\sum_{k}^{K} y^{(k)} (\\log \\hat{y}^{(k)} - \\log y^{(k)})\n",
    "$$\n",
    "\n",
    "where $y^{(k)}$ is $0$ or $1$, indicating whether class label $k$ is the correct classification."
   ]
  },
  {
   "cell_type": "code",
   "execution_count": 11,
   "id": "7a1677b6",
   "metadata": {},
   "outputs": [],
   "source": [
    "def compute_loss(output, Y):\n",
    "    y = to_one_hot(Y)\n",
    "    return -np.sum(np.where(y != 0, np.multiply(y, np.log(output / y)), 0))"
   ]
  },
  {
   "cell_type": "code",
   "execution_count": 12,
   "id": "82378399",
   "metadata": {},
   "outputs": [],
   "source": [
    "# Note that code is same with back prop in cross-entropy\n",
    "# since both losses has same derivative w.r.t y hat\n",
    "def bp_kl(network, X, Y, lr):\n",
    "    n = X.shape[0]  # size of dataset\n",
    "    \n",
    "    A1 = network.cache['A1']\n",
    "    A2 = network.cache['A2']\n",
    "    \n",
    "    # compute gradients\n",
    "    dZ2 = A2 - to_one_hot(Y)\n",
    "    dW2 = (1 / n) * np.dot(A1.T, dZ2)\n",
    "    db2 = (1 / n) * np.sum(dZ2, axis=0)\n",
    "    \n",
    "    dZ1 = np.multiply(np.dot(dZ2, network.W2.T), 1 - np.power(A1, 2))\n",
    "    dW1 = (1 / n) * np.dot(X.T, dZ1)\n",
    "    db1 = (1 / n) * np.sum(dZ1, axis=0)\n",
    "    \n",
    "    # update parameters\n",
    "    network.W2 = network.W2 - lr * dW2\n",
    "    network.b2 = network.b2 - lr * db2\n",
    "    network.W1 = network.W1 - lr * dW1\n",
    "    network.b1 = network.b1 - lr * db1"
   ]
  },
  {
   "cell_type": "code",
   "execution_count": 13,
   "id": "cd4d1b9e",
   "metadata": {},
   "outputs": [
    {
     "name": "stderr",
     "output_type": "stream",
     "text": [
      "  0%|                                                  | 0/2000 [00:00<?, ?it/s]/tmp/ipykernel_184119/221692360.py:3: RuntimeWarning: divide by zero encountered in true_divide\n",
      "  return np.sum(np.where(y != 0, np.multiply(y, np.log(output / y)), 0))\n",
      "/tmp/ipykernel_184119/221692360.py:3: RuntimeWarning: invalid value encountered in multiply\n",
      "  return np.sum(np.where(y != 0, np.multiply(y, np.log(output / y)), 0))\n",
      " 10%|███▊                                  | 199/2000 [16:46<2:31:45,  5.06s/it]"
     ]
    },
    {
     "name": "stdout",
     "output_type": "stream",
     "text": [
      "[epoch 200] loss: -143104.7662\n"
     ]
    },
    {
     "name": "stderr",
     "output_type": "stream",
     "text": [
      " 20%|███████▌                              | 399/2000 [33:38<2:15:24,  5.07s/it]"
     ]
    },
    {
     "name": "stdout",
     "output_type": "stream",
     "text": [
      "[epoch 400] loss: -101351.5404\n"
     ]
    },
    {
     "name": "stderr",
     "output_type": "stream",
     "text": [
      " 30%|███████████▍                          | 599/2000 [50:30<1:58:13,  5.06s/it]"
     ]
    },
    {
     "name": "stdout",
     "output_type": "stream",
     "text": [
      "[epoch 600] loss: -81278.7056\n"
     ]
    },
    {
     "name": "stderr",
     "output_type": "stream",
     "text": [
      " 40%|██████████████▍                     | 799/2000 [1:07:21<1:41:17,  5.06s/it]"
     ]
    },
    {
     "name": "stdout",
     "output_type": "stream",
     "text": [
      "[epoch 800] loss: -67875.5278\n"
     ]
    },
    {
     "name": "stderr",
     "output_type": "stream",
     "text": [
      " 50%|█████████████████▉                  | 999/2000 [1:24:13<1:24:22,  5.06s/it]"
     ]
    },
    {
     "name": "stdout",
     "output_type": "stream",
     "text": [
      "[epoch 1000] loss: -58113.3984\n"
     ]
    },
    {
     "name": "stderr",
     "output_type": "stream",
     "text": [
      " 60%|████████████████████▉              | 1199/2000 [1:41:05<1:07:28,  5.05s/it]"
     ]
    },
    {
     "name": "stdout",
     "output_type": "stream",
     "text": [
      "[epoch 1200] loss: -50524.0959\n"
     ]
    },
    {
     "name": "stderr",
     "output_type": "stream",
     "text": [
      " 70%|█████████████████████████▉           | 1399/2000 [1:58:33<54:21,  5.43s/it]"
     ]
    },
    {
     "name": "stdout",
     "output_type": "stream",
     "text": [
      "[epoch 1400] loss: -44438.4743\n"
     ]
    },
    {
     "name": "stderr",
     "output_type": "stream",
     "text": [
      " 80%|█████████████████████████████▌       | 1599/2000 [2:16:50<36:43,  5.50s/it]"
     ]
    },
    {
     "name": "stdout",
     "output_type": "stream",
     "text": [
      "[epoch 1600] loss: -39468.1728\n"
     ]
    },
    {
     "name": "stderr",
     "output_type": "stream",
     "text": [
      " 90%|█████████████████████████████████▎   | 1799/2000 [2:34:03<17:44,  5.29s/it]"
     ]
    },
    {
     "name": "stdout",
     "output_type": "stream",
     "text": [
      "[epoch 1800] loss: -35320.9407\n"
     ]
    },
    {
     "name": "stderr",
     "output_type": "stream",
     "text": [
      "100%|████████████████████████████████████▉| 1999/2000 [2:51:22<00:05,  5.06s/it]"
     ]
    },
    {
     "name": "stdout",
     "output_type": "stream",
     "text": [
      "[epoch 2000] loss: -31768.7917\n"
     ]
    },
    {
     "name": "stderr",
     "output_type": "stream",
     "text": [
      "100%|█████████████████████████████████████| 2000/2000 [2:51:27<00:00,  5.14s/it]\n"
     ]
    },
    {
     "data": {
      "text/plain": [
       "Text(0, 0.5, 'KL-Divergence Loss')"
      ]
     },
     "execution_count": 13,
     "metadata": {},
     "output_type": "execute_result"
    },
    {
     "data": {
      "image/png": "[encoded data removed]",
      "text/plain": [
       "<Figure size 432x288 with 1 Axes>"
      ]
     },
     "metadata": {
      "needs_background": "light"
     },
     "output_type": "display_data"
    }
   ],
   "source": [
    "network = MLPNN(in_dim=784, out_dim=10, n_neuron=1000)\n",
    "learning_rate = 1e-1\n",
    "epochs = 2000\n",
    "\n",
    "training_loss = list()\n",
    "testing_loss = list()\n",
    "\n",
    "for epoch in tqdm(range(1, epochs+1)):\n",
    "    out = network(train_img)\n",
    "    loss = compute_loss(out, train_label)\n",
    "    training_loss.append(loss)\n",
    "    bp_kl(network, train_img, train_label, learning_rate)\n",
    "    \n",
    "    if epoch % 200 == 0:\n",
    "        print('[epoch %d] loss: %.4f' % (epoch, loss))\n",
    "    \n",
    "    # Evaluate on testing set\n",
    "    out = network(test_img, requires_cache=False)\n",
    "    loss = compute_loss(out, test_label)\n",
    "    testing_loss.append(loss)\n",
    "        \n",
    "# Plot loss curve\n",
    "p1, = plt.plot(training_loss)\n",
    "p2, = plt.plot(testing_loss)\n",
    "plt.legend(handles=[p1, p2], labels=['train', 'test'], loc='best')\n",
    "plt.xlabel('Epochs')\n",
    "plt.ylabel('KL-Divergence Loss')"
   ]
  },
  {
   "cell_type": "code",
   "execution_count": 14,
   "id": "d85c8589",
   "metadata": {},
   "outputs": [
    {
     "name": "stdout",
     "output_type": "stream",
     "text": [
      "Confusion matrix:\n",
      "[[ 920    1   11    6    1   17   15    2    6    1]\n",
      " [   0 1091    6    6    1    4    5    4   17    1]\n",
      " [  17    7  906   22    9   12   13   10   31    5]\n",
      " [   4    4   16  893    2   33    2   16   27   13]\n",
      " [   7    1   12    5  864    3   19    5   14   52]\n",
      " [  10    5   13   34   13  751   16    7   31   12]\n",
      " [  13    3   14    3   16   25  868    0   15    1]\n",
      " [   4    9   31   14   13    8    1  897    3   48]\n",
      " [   9    6   16   33   13   37   12   10  819   19]\n",
      " [   5    8    6    9   51   11    3   33   24  859]]\n",
      "Accuracy=0.8868\n"
     ]
    }
   ],
   "source": [
    "evaluate(network, test_img, test_label)"
   ]
  }
 ],
 "metadata": {
  "kernelspec": {
   "display_name": "Python 3 (ipykernel)",
   "language": "python",
   "name": "python3"
  },
  "language_info": {
   "codemirror_mode": {
    "name": "ipython",
    "version": 3
   },
   "file_extension": ".py",
   "mimetype": "text/x-python",
   "name": "python",
   "nbconvert_exporter": "python",
   "pygments_lexer": "ipython3",
   "version": "3.8.11"
  }
 },
 "nbformat": 4,
 "nbformat_minor": 5
}
