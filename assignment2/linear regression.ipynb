{
 "cells": [
  {
   "cell_type": "markdown",
   "metadata": {},
   "source": [
    "# Linear Regression exercise"
   ]
  },
  {
   "cell_type": "markdown",
   "metadata": {},
   "source": [
    "Linear regression attempts to model the relationship between two variables by fitting a linear equation to observed data. One variable is considered to be an explanatory variable, and the other is considered to be a dependent variable. \n",
    "\n",
    "Given a dataset $D=\\left\\{\\left(\\boldsymbol{x}_{1}, y_{1}\\right),\\left(\\boldsymbol{x}_{2}, y_{2}\\right), \\ldots,\\left(\\boldsymbol{x}_{m}, y_{m}\\right)\\right\\}$, linear regression tries to determine a function with the form:\n",
    "\n",
    "$$f(\\boldsymbol{x})=\\boldsymbol{w}^{\\mathrm{T}} \\boldsymbol{x}+b$$\n",
    "\n",
    "to fit $f(\\boldsymbol{x}_{i})$ and $y_i$"
   ]
  },
  {
   "cell_type": "markdown",
   "metadata": {},
   "source": [
    "The target of this assignment is to predict housing prices on [boston housing dataset](https://www.cs.toronto.edu/~delve/data/boston/bostonDetail.html) with linear regression algorithm. Ridge regression and lasso regression are required in this exercise."
   ]
  },
  {
   "cell_type": "markdown",
   "metadata": {},
   "source": [
    "## Table of Contents\n",
    "\n",
    "- [1 - Packages](#1)\n",
    "- [2 - Load the Dataset](#2)\n",
    "- [3 - Linear Regression](#3)\n",
    "  - [3.0 - Preparation](#3-0)\n",
    "  - [3.1 - Ridge regression](#3-1)\n",
    "  - [3.2 - Lasso regression](#3-2)"
   ]
  },
  {
   "cell_type": "markdown",
   "metadata": {},
   "source": [
    "<a name='1'></a>\n",
    "## 1 - Packages\n",
    "\n",
    "First import all the packages needed during this assignment."
   ]
  },
  {
   "cell_type": "code",
   "execution_count": 1,
   "metadata": {},
   "outputs": [],
   "source": [
    "import pandas as pd\n",
    "import numpy as np\n",
    "import matplotlib.pyplot as plt\n",
    "\n",
    "%matplotlib inline\n",
    "\n",
    "%load_ext autoreload\n",
    "%autoreload 2"
   ]
  },
  {
   "cell_type": "markdown",
   "metadata": {},
   "source": [
    "<a name='2'></a>\n",
    "## 2 - Load the Dataset "
   ]
  },
  {
   "cell_type": "code",
   "execution_count": 2,
   "metadata": {},
   "outputs": [],
   "source": [
    "# access housing price data from the scikit-learn library\n",
    "from sklearn.datasets import load_boston\n",
    "boston_dataset = load_boston()"
   ]
  },
  {
   "cell_type": "markdown",
   "metadata": {},
   "source": [
    "As it is described in [sklearn documentation](https://scikit-learn.org/stable/modules/generated/sklearn.datasets.load_boston.html), `boston_dataset` is a dict-like object contains following attributes:\n",
    "\n",
    "* data, `ndarray` of shape (506, 13), the data matrix\n",
    "* target, `ndarray` of shape (506,), the regression target\n",
    "* filename, `str`, the physical location of boston csv dataset.\n",
    "* DESCR, `str`, the full description of the dataset.\n",
    "* feature_names, `ndarray`: the names of features"
   ]
  },
  {
   "cell_type": "code",
   "execution_count": 3,
   "metadata": {},
   "outputs": [
    {
     "data": {
      "text/html": [
       "<div>\n",
       "<style scoped>\n",
       "    .dataframe tbody tr th:only-of-type {\n",
       "        vertical-align: middle;\n",
       "    }\n",
       "\n",
       "    .dataframe tbody tr th {\n",
       "        vertical-align: top;\n",
       "    }\n",
       "\n",
       "    .dataframe thead th {\n",
       "        text-align: right;\n",
       "    }\n",
       "</style>\n",
       "<table border=\"1\" class=\"dataframe\">\n",
       "  <thead>\n",
       "    <tr style=\"text-align: right;\">\n",
       "      <th></th>\n",
       "      <th>CRIM</th>\n",
       "      <th>ZN</th>\n",
       "      <th>INDUS</th>\n",
       "      <th>CHAS</th>\n",
       "      <th>NOX</th>\n",
       "      <th>RM</th>\n",
       "      <th>AGE</th>\n",
       "      <th>DIS</th>\n",
       "      <th>RAD</th>\n",
       "      <th>TAX</th>\n",
       "      <th>PTRATIO</th>\n",
       "      <th>B</th>\n",
       "      <th>LSTAT</th>\n",
       "    </tr>\n",
       "  </thead>\n",
       "  <tbody>\n",
       "    <tr>\n",
       "      <th>0</th>\n",
       "      <td>0.00632</td>\n",
       "      <td>18.0</td>\n",
       "      <td>2.31</td>\n",
       "      <td>0.0</td>\n",
       "      <td>0.538</td>\n",
       "      <td>6.575</td>\n",
       "      <td>65.2</td>\n",
       "      <td>4.0900</td>\n",
       "      <td>1.0</td>\n",
       "      <td>296.0</td>\n",
       "      <td>15.3</td>\n",
       "      <td>396.90</td>\n",
       "      <td>4.98</td>\n",
       "    </tr>\n",
       "    <tr>\n",
       "      <th>1</th>\n",
       "      <td>0.02731</td>\n",
       "      <td>0.0</td>\n",
       "      <td>7.07</td>\n",
       "      <td>0.0</td>\n",
       "      <td>0.469</td>\n",
       "      <td>6.421</td>\n",
       "      <td>78.9</td>\n",
       "      <td>4.9671</td>\n",
       "      <td>2.0</td>\n",
       "      <td>242.0</td>\n",
       "      <td>17.8</td>\n",
       "      <td>396.90</td>\n",
       "      <td>9.14</td>\n",
       "    </tr>\n",
       "    <tr>\n",
       "      <th>2</th>\n",
       "      <td>0.02729</td>\n",
       "      <td>0.0</td>\n",
       "      <td>7.07</td>\n",
       "      <td>0.0</td>\n",
       "      <td>0.469</td>\n",
       "      <td>7.185</td>\n",
       "      <td>61.1</td>\n",
       "      <td>4.9671</td>\n",
       "      <td>2.0</td>\n",
       "      <td>242.0</td>\n",
       "      <td>17.8</td>\n",
       "      <td>392.83</td>\n",
       "      <td>4.03</td>\n",
       "    </tr>\n",
       "    <tr>\n",
       "      <th>3</th>\n",
       "      <td>0.03237</td>\n",
       "      <td>0.0</td>\n",
       "      <td>2.18</td>\n",
       "      <td>0.0</td>\n",
       "      <td>0.458</td>\n",
       "      <td>6.998</td>\n",
       "      <td>45.8</td>\n",
       "      <td>6.0622</td>\n",
       "      <td>3.0</td>\n",
       "      <td>222.0</td>\n",
       "      <td>18.7</td>\n",
       "      <td>394.63</td>\n",
       "      <td>2.94</td>\n",
       "    </tr>\n",
       "    <tr>\n",
       "      <th>4</th>\n",
       "      <td>0.06905</td>\n",
       "      <td>0.0</td>\n",
       "      <td>2.18</td>\n",
       "      <td>0.0</td>\n",
       "      <td>0.458</td>\n",
       "      <td>7.147</td>\n",
       "      <td>54.2</td>\n",
       "      <td>6.0622</td>\n",
       "      <td>3.0</td>\n",
       "      <td>222.0</td>\n",
       "      <td>18.7</td>\n",
       "      <td>396.90</td>\n",
       "      <td>5.33</td>\n",
       "    </tr>\n",
       "  </tbody>\n",
       "</table>\n",
       "</div>"
      ],
      "text/plain": [
       "      CRIM    ZN  INDUS  CHAS    NOX     RM   AGE     DIS  RAD    TAX  \\\n",
       "0  0.00632  18.0   2.31   0.0  0.538  6.575  65.2  4.0900  1.0  296.0   \n",
       "1  0.02731   0.0   7.07   0.0  0.469  6.421  78.9  4.9671  2.0  242.0   \n",
       "2  0.02729   0.0   7.07   0.0  0.469  7.185  61.1  4.9671  2.0  242.0   \n",
       "3  0.03237   0.0   2.18   0.0  0.458  6.998  45.8  6.0622  3.0  222.0   \n",
       "4  0.06905   0.0   2.18   0.0  0.458  7.147  54.2  6.0622  3.0  222.0   \n",
       "\n",
       "   PTRATIO       B  LSTAT  \n",
       "0     15.3  396.90   4.98  \n",
       "1     17.8  396.90   9.14  \n",
       "2     17.8  392.83   4.03  \n",
       "3     18.7  394.63   2.94  \n",
       "4     18.7  396.90   5.33  "
      ]
     },
     "execution_count": 3,
     "metadata": {},
     "output_type": "execute_result"
    }
   ],
   "source": [
    "# load the data into a pandas dataframe using pd.DataFrame\n",
    "data = pd.DataFrame(boston_dataset.data, columns=boston_dataset.feature_names)\n",
    "data.head()"
   ]
  },
  {
   "cell_type": "markdown",
   "metadata": {},
   "source": [
    "For convenience, add the housing price into `data`"
   ]
  },
  {
   "cell_type": "code",
   "execution_count": 4,
   "metadata": {},
   "outputs": [
    {
     "data": {
      "text/html": [
       "<div>\n",
       "<style scoped>\n",
       "    .dataframe tbody tr th:only-of-type {\n",
       "        vertical-align: middle;\n",
       "    }\n",
       "\n",
       "    .dataframe tbody tr th {\n",
       "        vertical-align: top;\n",
       "    }\n",
       "\n",
       "    .dataframe thead th {\n",
       "        text-align: right;\n",
       "    }\n",
       "</style>\n",
       "<table border=\"1\" class=\"dataframe\">\n",
       "  <thead>\n",
       "    <tr style=\"text-align: right;\">\n",
       "      <th></th>\n",
       "      <th>CRIM</th>\n",
       "      <th>ZN</th>\n",
       "      <th>INDUS</th>\n",
       "      <th>CHAS</th>\n",
       "      <th>NOX</th>\n",
       "      <th>RM</th>\n",
       "      <th>AGE</th>\n",
       "      <th>DIS</th>\n",
       "      <th>RAD</th>\n",
       "      <th>TAX</th>\n",
       "      <th>PTRATIO</th>\n",
       "      <th>B</th>\n",
       "      <th>LSTAT</th>\n",
       "      <th>Price</th>\n",
       "    </tr>\n",
       "  </thead>\n",
       "  <tbody>\n",
       "    <tr>\n",
       "      <th>0</th>\n",
       "      <td>0.00632</td>\n",
       "      <td>18.0</td>\n",
       "      <td>2.31</td>\n",
       "      <td>0.0</td>\n",
       "      <td>0.538</td>\n",
       "      <td>6.575</td>\n",
       "      <td>65.2</td>\n",
       "      <td>4.0900</td>\n",
       "      <td>1.0</td>\n",
       "      <td>296.0</td>\n",
       "      <td>15.3</td>\n",
       "      <td>396.90</td>\n",
       "      <td>4.98</td>\n",
       "      <td>24.0</td>\n",
       "    </tr>\n",
       "    <tr>\n",
       "      <th>1</th>\n",
       "      <td>0.02731</td>\n",
       "      <td>0.0</td>\n",
       "      <td>7.07</td>\n",
       "      <td>0.0</td>\n",
       "      <td>0.469</td>\n",
       "      <td>6.421</td>\n",
       "      <td>78.9</td>\n",
       "      <td>4.9671</td>\n",
       "      <td>2.0</td>\n",
       "      <td>242.0</td>\n",
       "      <td>17.8</td>\n",
       "      <td>396.90</td>\n",
       "      <td>9.14</td>\n",
       "      <td>21.6</td>\n",
       "    </tr>\n",
       "    <tr>\n",
       "      <th>2</th>\n",
       "      <td>0.02729</td>\n",
       "      <td>0.0</td>\n",
       "      <td>7.07</td>\n",
       "      <td>0.0</td>\n",
       "      <td>0.469</td>\n",
       "      <td>7.185</td>\n",
       "      <td>61.1</td>\n",
       "      <td>4.9671</td>\n",
       "      <td>2.0</td>\n",
       "      <td>242.0</td>\n",
       "      <td>17.8</td>\n",
       "      <td>392.83</td>\n",
       "      <td>4.03</td>\n",
       "      <td>34.7</td>\n",
       "    </tr>\n",
       "    <tr>\n",
       "      <th>3</th>\n",
       "      <td>0.03237</td>\n",
       "      <td>0.0</td>\n",
       "      <td>2.18</td>\n",
       "      <td>0.0</td>\n",
       "      <td>0.458</td>\n",
       "      <td>6.998</td>\n",
       "      <td>45.8</td>\n",
       "      <td>6.0622</td>\n",
       "      <td>3.0</td>\n",
       "      <td>222.0</td>\n",
       "      <td>18.7</td>\n",
       "      <td>394.63</td>\n",
       "      <td>2.94</td>\n",
       "      <td>33.4</td>\n",
       "    </tr>\n",
       "    <tr>\n",
       "      <th>4</th>\n",
       "      <td>0.06905</td>\n",
       "      <td>0.0</td>\n",
       "      <td>2.18</td>\n",
       "      <td>0.0</td>\n",
       "      <td>0.458</td>\n",
       "      <td>7.147</td>\n",
       "      <td>54.2</td>\n",
       "      <td>6.0622</td>\n",
       "      <td>3.0</td>\n",
       "      <td>222.0</td>\n",
       "      <td>18.7</td>\n",
       "      <td>396.90</td>\n",
       "      <td>5.33</td>\n",
       "      <td>36.2</td>\n",
       "    </tr>\n",
       "  </tbody>\n",
       "</table>\n",
       "</div>"
      ],
      "text/plain": [
       "      CRIM    ZN  INDUS  CHAS    NOX     RM   AGE     DIS  RAD    TAX  \\\n",
       "0  0.00632  18.0   2.31   0.0  0.538  6.575  65.2  4.0900  1.0  296.0   \n",
       "1  0.02731   0.0   7.07   0.0  0.469  6.421  78.9  4.9671  2.0  242.0   \n",
       "2  0.02729   0.0   7.07   0.0  0.469  7.185  61.1  4.9671  2.0  242.0   \n",
       "3  0.03237   0.0   2.18   0.0  0.458  6.998  45.8  6.0622  3.0  222.0   \n",
       "4  0.06905   0.0   2.18   0.0  0.458  7.147  54.2  6.0622  3.0  222.0   \n",
       "\n",
       "   PTRATIO       B  LSTAT  Price  \n",
       "0     15.3  396.90   4.98   24.0  \n",
       "1     17.8  396.90   9.14   21.6  \n",
       "2     17.8  392.83   4.03   34.7  \n",
       "3     18.7  394.63   2.94   33.4  \n",
       "4     18.7  396.90   5.33   36.2  "
      ]
     },
     "execution_count": 4,
     "metadata": {},
     "output_type": "execute_result"
    }
   ],
   "source": [
    "data['Price'] = boston_dataset.target\n",
    "data.head()"
   ]
  },
  {
   "cell_type": "markdown",
   "metadata": {},
   "source": [
    "Now, split boston housing dataset into training set and testing set. We use 80% of data for training and 20% of data for testing."
   ]
  },
  {
   "cell_type": "code",
   "execution_count": 5,
   "metadata": {},
   "outputs": [
    {
     "name": "stdout",
     "output_type": "stream",
     "text": [
      "size of training data (404, 14)\n",
      "size of testing data (102, 14)\n"
     ]
    }
   ],
   "source": [
    "data = data.sample(frac=1).reset_index(drop=True)  # shuffle dataframe rows\n",
    "\n",
    "rows, columns = data.shape\n",
    "training_set_size  = int(rows * 0.8)\n",
    "testing_set_size = rows - training_set_size\n",
    "\n",
    "training_data, testing_data = data.head(training_set_size).reset_index(drop=True), data.tail(testing_set_size).reset_index(drop=True)\n",
    "print('size of training data %s' % str(training_data.shape))\n",
    "print('size of testing data %s' % str(testing_data.shape))"
   ]
  },
  {
   "cell_type": "markdown",
   "metadata": {},
   "source": [
    "<a name='3'></a>\n",
    "## 3 - Linear Regression"
   ]
  },
  {
   "cell_type": "markdown",
   "metadata": {},
   "source": [
    "For converience, let $\\boldsymbol{w}=(\\boldsymbol{w} ; b)$, $\\boldsymbol{x}=(\\boldsymbol{x} ; 1)$. Thus, the equaiton of linear regression is equal to:\n",
    "$f(\\boldsymbol{x})=\\boldsymbol{w}^{\\mathrm{T}} \\boldsymbol{x}$\n",
    "\n",
    "The dataset can be represented as a matrix $\\boldsymbol{X}$ and vector $\\boldsymbol{y}$:\n",
    "$$\n",
    "\\mathbf{X}=\\left(\\begin{array}{ccccc}\n",
    "x_{11} & x_{12} & \\ldots & x_{1 d} & 1 \\\\\n",
    "x_{21} & x_{22} & \\ldots & x_{2 d} & 1 \\\\\n",
    "\\vdots & \\vdots & \\ddots & \\vdots & \\vdots \\\\\n",
    "x_{m 1} & x_{m 2} & \\ldots & x_{m d} & 1\n",
    "\\end{array}\\right)=\\left(\\begin{array}{cc}\n",
    "x_{1}^{\\mathrm{T}} & 1 \\\\\n",
    "\\boldsymbol{x}_{2}^{\\mathrm{T}} & 1 \\\\\n",
    "\\vdots & \\vdots \\\\\n",
    "\\boldsymbol{x}_{m}^{\\mathrm{T}} & 1\n",
    "\\end{array}\\right)\n",
    "$$\n",
    "$$\n",
    "\\boldsymbol{y}=\\left(y_{1} ; y_{2} ; \\ldots ; y_{m}\\right)\n",
    "$$"
   ]
  },
  {
   "cell_type": "markdown",
   "metadata": {},
   "source": [
    "Normally, we would minimize the mean square error between $f(\\boldsymbol{X})$ and $\\boldsymbol{y}$:\n",
    "$$\n",
    "\\min _{\\boldsymbol{w}}\\|\\boldsymbol{X} {\\boldsymbol{w}}-\\boldsymbol{y}\\|_{2}^{2}\n",
    "$$"
   ]
  },
  {
   "cell_type": "markdown",
   "metadata": {},
   "source": [
    "<a name='3-0'></a>\n",
    "### 3.0 - preparation"
   ]
  },
  {
   "cell_type": "code",
   "execution_count": 6,
   "metadata": {},
   "outputs": [],
   "source": [
    "# Turn data objects into numpy arrays to allow for easier matrix calculations\n",
    "X_train = (training_data.loc[:, training_data.columns!='Price']).to_numpy()\n",
    "X_test = (testing_data.loc[:, testing_data.columns!='Price']).to_numpy()\n",
    "y_train = (training_data.loc[:, training_data.columns=='Price']).to_numpy()\n",
    "y_test = (testing_data.loc[:, testing_data.columns=='Price']).to_numpy()"
   ]
  },
  {
   "cell_type": "code",
   "execution_count": 7,
   "metadata": {},
   "outputs": [],
   "source": [
    "def calculate_error(pred, gt):\n",
    "    bias = pred - gt\n",
    "    mean_absolute_error = np.mean(np.abs(bias))\n",
    "    mean_square_error = np.mean(bias ** 2)\n",
    "    return mean_absolute_error, mean_square_error\n",
    "\n",
    "def plot_prices(pred, gt):\n",
    "    \"\"\"Visualize the differences between actual prices and predicted values\"\"\"\n",
    "    plt.scatter(pred, gt)\n",
    "    plt.xlabel(\"Predicted prices\")\n",
    "    plt.ylabel(\"Prices\")\n",
    "    plt.title(\"Prices vs Predicted prices\")\n",
    "    \n",
    "def plot_residuals(pred, gt):\n",
    "    \"\"\"Visualize residuals\"\"\"\n",
    "    plt.scatter(pred, gt-pred)\n",
    "    plt.title(\"Predicted vs residuals\")\n",
    "    plt.xlabel(\"Predicted\")\n",
    "    plt.ylabel(\"Residuals\")\n",
    "    \n",
    "def plot(pred, gt):\n",
    "    plt.figure(figsize=(8, 3))\n",
    "    plt.subplot(1, 2, 1)\n",
    "    plot_prices(pred, gt)\n",
    "    plt.subplot(1, 2, 2)\n",
    "    plot_residuals(pred, gt)\n",
    "    plt.show()\n",
    "    \n",
    "def evaluate(model, X, y):\n",
    "    pred = model.predict(X_test).reshape(-1, 1)  # reshape to column vector\n",
    "    mae, mse = calculate_error(pred, y_test)\n",
    "\n",
    "    print('Error on testing set:')\n",
    "    print(f'MAE: {mae}\\nMSE: {mse}')\n",
    "\n",
    "    plot(pred, y_test)"
   ]
  },
  {
   "cell_type": "markdown",
   "metadata": {},
   "source": [
    "<a name='3-1'></a>\n",
    "### 3.1 - Ridge regression\n",
    "\n",
    "Ridge regression imposes a penalty on the size of the coefficients. The ridge coefficients minimize a penalized residual sum of squares:\n",
    "$$\n",
    "\\min _{\\boldsymbol{w}}\\|\\boldsymbol{X} {\\boldsymbol{w}}-\\boldsymbol{y}\\|_{2}^{2}+\\alpha\\|\\boldsymbol{w}\\|_{2}^{2}\n",
    "$$"
   ]
  },
  {
   "cell_type": "markdown",
   "metadata": {},
   "source": [
    "Define loss function as: $L(\\boldsymbol{w}, \\alpha)=|\\boldsymbol{X} {\\boldsymbol{w}}-\\boldsymbol{y}\\|_{2}^{2}+\\alpha\\|\\boldsymbol{w}\\|_{2}^{2}$. Take the partial derivative with respect to $\\boldsymbol{w}$, make it equal to $0$ and we can get the solution for $\\boldsymbol{w}$.\n",
    "\n",
    "$$\n",
    "\\begin{aligned}\n",
    "L(w, \\alpha) &=\\|X w-y\\|^{2}+\\alpha\\|w\\|^{2} \\\\\n",
    "&=(X w-y)^{T}(X w-y)+\\alpha w^{T} w \\\\\n",
    "&=\\left(w^{T} X^{T}-y^{T}\\right)(X w-y)+\\alpha w^{T} w \\\\\n",
    "&=w^{T} X^{T} X w-2 w^{T} X^{T} y+y^{T} y+\\alpha w^{T} w\n",
    "\\end{aligned}\n",
    "$$\n",
    "\n",
    "Suppose $w^{T} w \\rightarrow w^{2}$ then\n",
    "$$\n",
    "\\begin{aligned}\n",
    "\\frac{\\partial L}{\\partial w} &=2 X^{T} X w-2 X^{T} y+2 \\alpha w \\\\\n",
    "&=2\\left(X^{T} X+\\alpha I\\right) w-2 X^{T} y \\\\\n",
    "&=0 \\\\ \n",
    "2 X^{T} y &= 2\\left(X^{T} X+\\alpha I\\right) w \\\\\n",
    "w &= \\left(X^{T} X+\\alpha I\\right) X^{T} y\n",
    "\\end{aligned}\n",
    "$$"
   ]
  },
  {
   "cell_type": "code",
   "execution_count": 8,
   "metadata": {},
   "outputs": [],
   "source": [
    "class Ridge:\n",
    "    def __init__(self, alpha):\n",
    "        self.alpha = alpha\n",
    "        self.weight = None\n",
    "        \n",
    "    def fit(self, X, y):\n",
    "        n, m = y.shape\n",
    "        I = np.identity(m)\n",
    "        \n",
    "        _X = np.hstack((X, np.ones((n, 1)))) # append column of 1\n",
    "        self.weight = np.dot(np.dot(np.linalg.inv(np.dot(_X.T, _X) + self.alpha * I), _X.T), y)\n",
    "    \n",
    "    def predict(self, X):\n",
    "        assert self.weight is not None\n",
    "        n, _ = X.shape\n",
    "        _X = np.hstack((X, np.ones((n, 1)))) # append column of 1\n",
    "        assert _X.shape[1] == self.weight.shape[0]\n",
    "        return np.dot(_X, self.weight)"
   ]
  },
  {
   "cell_type": "code",
   "execution_count": 9,
   "metadata": {},
   "outputs": [
    {
     "name": "stdout",
     "output_type": "stream",
     "text": [
      "Error on testing set:\n",
      "MAE: 3.4785995652068755\n",
      "MSE: 22.205801072439957\n"
     ]
    },
    {
     "data": {
      "image/png": "[encoded data removed]",
      "text/plain": [
       "<Figure size 576x216 with 2 Axes>"
      ]
     },
     "metadata": {
      "needs_background": "light"
     },
     "output_type": "display_data"
    }
   ],
   "source": [
    "ridge = Ridge(alpha=0.01)  # Empirically, use hyperparameter alpha=0.01\n",
    "ridge.fit(X_train, y_train)\n",
    "\n",
    "# Evaluation on testing set\n",
    "evaluate(ridge, X_test, y_test)"
   ]
  },
  {
   "cell_type": "markdown",
   "metadata": {},
   "source": [
    "<a name='3-2'></a>\n",
    "### 3.2 - Lasso regression\n",
    "\n",
    "The Lasso is a linear model that estimates sparse coefficients. It consists of a linear model with an added regularization term. The objective function to minimize is:\n",
    "$$\n",
    "\\min _{\\boldsymbol{w}}\\|\\boldsymbol{X} {\\boldsymbol{w}}-\\boldsymbol{y}\\|_{2}^{2}+\\alpha\\|\\boldsymbol{w}\\|_{1}\n",
    "$$"
   ]
  },
  {
   "cell_type": "markdown",
   "metadata": {},
   "source": [
    "However, the derivative of the cost function has no closed form (due to the L1 loss on the weights). Thus, we use scikit-learn’s built in function for calculating the ideal weights. However, this still requires we pick the ideal shrinkage parameter (as we did for ridge). We take the same approach that we took in ridge regression to search for the ideal regularization parameter on the validation data."
   ]
  },
  {
   "cell_type": "code",
   "execution_count": 10,
   "metadata": {},
   "outputs": [],
   "source": [
    "from sklearn.linear_model import Lasso\n",
    "\n",
    "\n",
    "def get_lasso_model(alpha):\n",
    "    model = Lasso(alpha=alpha, normalize=False)\n",
    "    model.fit(X_train, y_train)\n",
    "    return model\n",
    "\n",
    "lasso = get_lasso_model(alpha=0.01) # Empirically, use hyperparameter alpha=0.01"
   ]
  },
  {
   "cell_type": "code",
   "execution_count": 11,
   "metadata": {},
   "outputs": [
    {
     "name": "stdout",
     "output_type": "stream",
     "text": [
      "Error on testing set:\n",
      "MAE: 3.474968123509128\n",
      "MSE: 22.322296511621357\n"
     ]
    },
    {
     "data": {
      "image/png": "[encoded data removed]",
      "text/plain": [
       "<Figure size 576x216 with 2 Axes>"
      ]
     },
     "metadata": {
      "needs_background": "light"
     },
     "output_type": "display_data"
    }
   ],
   "source": [
    "# Evaluation on testing set\n",
    "evaluate(lasso, X_test, y_test)"
   ]
  }
 ],
 "metadata": {
  "kernelspec": {
   "display_name": "Python 3",
   "language": "python",
   "name": "python3"
  },
  "language_info": {
   "codemirror_mode": {
    "name": "ipython",
    "version": 3
   },
   "file_extension": ".py",
   "mimetype": "text/x-python",
   "name": "python",
   "nbconvert_exporter": "python",
   "pygments_lexer": "ipython3",
   "version": "3.8.5"
  }
 },
 "nbformat": 4,
 "nbformat_minor": 4
}
